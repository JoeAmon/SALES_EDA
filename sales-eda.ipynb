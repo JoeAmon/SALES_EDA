{
 "cells": [
  {
   "cell_type": "markdown",
   "id": "a32afb39",
   "metadata": {
    "_cell_guid": "b1076dfc-b9ad-4769-8c92-a6c4dae69d19",
    "_uuid": "8f2839f25d086af736a60e9eeb907d3b93b6e0e5",
    "papermill": {
     "duration": 0.010485,
     "end_time": "2023-10-23T20:37:08.296538",
     "exception": false,
     "start_time": "2023-10-23T20:37:08.286053",
     "status": "completed"
    },
    "tags": []
   },
   "source": [
    "# **Import Libraries**"
   ]
  },
  {
   "cell_type": "code",
   "execution_count": 1,
   "id": "15e4964e",
   "metadata": {
    "execution": {
     "iopub.execute_input": "2023-10-23T20:37:08.317599Z",
     "iopub.status.busy": "2023-10-23T20:37:08.316794Z",
     "iopub.status.idle": "2023-10-23T20:37:10.186450Z",
     "shell.execute_reply": "2023-10-23T20:37:10.185335Z"
    },
    "papermill": {
     "duration": 1.883516,
     "end_time": "2023-10-23T20:37:10.189378",
     "exception": false,
     "start_time": "2023-10-23T20:37:08.305862",
     "status": "completed"
    },
    "tags": []
   },
   "outputs": [],
   "source": [
    "import pandas as pd\n",
    "import numpy as np\n",
    "import matplotlib.pyplot as plt\n",
    "import seaborn as sns\n",
    "sns.set()"
   ]
  },
  {
   "cell_type": "markdown",
   "id": "ebbcd29c",
   "metadata": {
    "papermill": {
     "duration": 0.009919,
     "end_time": "2023-10-23T20:37:10.211463",
     "exception": false,
     "start_time": "2023-10-23T20:37:10.201544",
     "status": "completed"
    },
    "tags": []
   },
   "source": [
    "# **import dataset**"
   ]
  },
  {
   "cell_type": "code",
   "execution_count": 2,
   "id": "cc09ee5c",
   "metadata": {
    "execution": {
     "iopub.execute_input": "2023-10-23T20:37:10.239346Z",
     "iopub.status.busy": "2023-10-23T20:37:10.238649Z",
     "iopub.status.idle": "2023-10-23T20:37:10.872403Z",
     "shell.execute_reply": "2023-10-23T20:37:10.871194Z"
    },
    "papermill": {
     "duration": 0.65238,
     "end_time": "2023-10-23T20:37:10.875100",
     "exception": false,
     "start_time": "2023-10-23T20:37:10.222720",
     "status": "completed"
    },
    "tags": []
   },
   "outputs": [],
   "source": [
    "customer = pd.read_csv(\"/kaggle/input/sales-and-customer-data/customer_data.csv\")\n",
    "sales = pd.read_csv(\"/kaggle/input/sales-and-customer-data/sales_data.csv\")"
   ]
  },
  {
   "cell_type": "code",
   "execution_count": 3,
   "id": "b7a0053a",
   "metadata": {
    "execution": {
     "iopub.execute_input": "2023-10-23T20:37:10.896490Z",
     "iopub.status.busy": "2023-10-23T20:37:10.895547Z",
     "iopub.status.idle": "2023-10-23T20:37:10.922248Z",
     "shell.execute_reply": "2023-10-23T20:37:10.921125Z"
    },
    "papermill": {
     "duration": 0.040235,
     "end_time": "2023-10-23T20:37:10.924940",
     "exception": false,
     "start_time": "2023-10-23T20:37:10.884705",
     "status": "completed"
    },
    "tags": []
   },
   "outputs": [
    {
     "data": {
      "text/html": [
       "<div>\n",
       "<style scoped>\n",
       "    .dataframe tbody tr th:only-of-type {\n",
       "        vertical-align: middle;\n",
       "    }\n",
       "\n",
       "    .dataframe tbody tr th {\n",
       "        vertical-align: top;\n",
       "    }\n",
       "\n",
       "    .dataframe thead th {\n",
       "        text-align: right;\n",
       "    }\n",
       "</style>\n",
       "<table border=\"1\" class=\"dataframe\">\n",
       "  <thead>\n",
       "    <tr style=\"text-align: right;\">\n",
       "      <th></th>\n",
       "      <th>customer_id</th>\n",
       "      <th>gender</th>\n",
       "      <th>age</th>\n",
       "      <th>payment_method</th>\n",
       "    </tr>\n",
       "  </thead>\n",
       "  <tbody>\n",
       "    <tr>\n",
       "      <th>0</th>\n",
       "      <td>C241288</td>\n",
       "      <td>Female</td>\n",
       "      <td>28.0</td>\n",
       "      <td>Credit Card</td>\n",
       "    </tr>\n",
       "    <tr>\n",
       "      <th>1</th>\n",
       "      <td>C111565</td>\n",
       "      <td>Male</td>\n",
       "      <td>21.0</td>\n",
       "      <td>Debit Card</td>\n",
       "    </tr>\n",
       "    <tr>\n",
       "      <th>2</th>\n",
       "      <td>C266599</td>\n",
       "      <td>Male</td>\n",
       "      <td>20.0</td>\n",
       "      <td>Cash</td>\n",
       "    </tr>\n",
       "    <tr>\n",
       "      <th>3</th>\n",
       "      <td>C988172</td>\n",
       "      <td>Female</td>\n",
       "      <td>66.0</td>\n",
       "      <td>Credit Card</td>\n",
       "    </tr>\n",
       "    <tr>\n",
       "      <th>4</th>\n",
       "      <td>C189076</td>\n",
       "      <td>Female</td>\n",
       "      <td>53.0</td>\n",
       "      <td>Cash</td>\n",
       "    </tr>\n",
       "  </tbody>\n",
       "</table>\n",
       "</div>"
      ],
      "text/plain": [
       "  customer_id  gender   age payment_method\n",
       "0     C241288  Female  28.0    Credit Card\n",
       "1     C111565    Male  21.0     Debit Card\n",
       "2     C266599    Male  20.0           Cash\n",
       "3     C988172  Female  66.0    Credit Card\n",
       "4     C189076  Female  53.0           Cash"
      ]
     },
     "execution_count": 3,
     "metadata": {},
     "output_type": "execute_result"
    }
   ],
   "source": [
    "customer.head()"
   ]
  },
  {
   "cell_type": "code",
   "execution_count": 4,
   "id": "de3a1957",
   "metadata": {
    "execution": {
     "iopub.execute_input": "2023-10-23T20:37:10.947183Z",
     "iopub.status.busy": "2023-10-23T20:37:10.946088Z",
     "iopub.status.idle": "2023-10-23T20:37:11.003728Z",
     "shell.execute_reply": "2023-10-23T20:37:11.001841Z"
    },
    "papermill": {
     "duration": 0.072004,
     "end_time": "2023-10-23T20:37:11.006833",
     "exception": false,
     "start_time": "2023-10-23T20:37:10.934829",
     "status": "completed"
    },
    "tags": []
   },
   "outputs": [
    {
     "name": "stdout",
     "output_type": "stream",
     "text": [
      "<class 'pandas.core.frame.DataFrame'>\n",
      "RangeIndex: 99457 entries, 0 to 99456\n",
      "Data columns (total 4 columns):\n",
      " #   Column          Non-Null Count  Dtype  \n",
      "---  ------          --------------  -----  \n",
      " 0   customer_id     99457 non-null  object \n",
      " 1   gender          99457 non-null  object \n",
      " 2   age             99338 non-null  float64\n",
      " 3   payment_method  99457 non-null  object \n",
      "dtypes: float64(1), object(3)\n",
      "memory usage: 3.0+ MB\n"
     ]
    }
   ],
   "source": [
    "customer.info()"
   ]
  },
  {
   "cell_type": "code",
   "execution_count": 5,
   "id": "bb94c8fa",
   "metadata": {
    "execution": {
     "iopub.execute_input": "2023-10-23T20:37:11.033034Z",
     "iopub.status.busy": "2023-10-23T20:37:11.032631Z",
     "iopub.status.idle": "2023-10-23T20:37:11.097219Z",
     "shell.execute_reply": "2023-10-23T20:37:11.095890Z"
    },
    "papermill": {
     "duration": 0.079431,
     "end_time": "2023-10-23T20:37:11.100214",
     "exception": false,
     "start_time": "2023-10-23T20:37:11.020783",
     "status": "completed"
    },
    "tags": []
   },
   "outputs": [
    {
     "name": "stdout",
     "output_type": "stream",
     "text": [
      "<class 'pandas.core.frame.DataFrame'>\n",
      "RangeIndex: 99457 entries, 0 to 99456\n",
      "Data columns (total 7 columns):\n",
      " #   Column         Non-Null Count  Dtype  \n",
      "---  ------         --------------  -----  \n",
      " 0   invoice_no     99457 non-null  object \n",
      " 1   customer_id    99457 non-null  object \n",
      " 2   category       99457 non-null  object \n",
      " 3   quantity       99457 non-null  int64  \n",
      " 4   price          99457 non-null  float64\n",
      " 5   invoice_date   99457 non-null  object \n",
      " 6   shopping_mall  99457 non-null  object \n",
      "dtypes: float64(1), int64(1), object(5)\n",
      "memory usage: 5.3+ MB\n"
     ]
    }
   ],
   "source": [
    "sales.info()"
   ]
  },
  {
   "cell_type": "markdown",
   "id": "66e9933f",
   "metadata": {
    "papermill": {
     "duration": 0.009985,
     "end_time": "2023-10-23T20:37:11.121349",
     "exception": false,
     "start_time": "2023-10-23T20:37:11.111364",
     "status": "completed"
    },
    "tags": []
   },
   "source": [
    "# **DATA CLEANING**"
   ]
  },
  {
   "cell_type": "code",
   "execution_count": 6,
   "id": "fc6be05c",
   "metadata": {
    "execution": {
     "iopub.execute_input": "2023-10-23T20:37:11.144362Z",
     "iopub.status.busy": "2023-10-23T20:37:11.143393Z",
     "iopub.status.idle": "2023-10-23T20:37:11.265470Z",
     "shell.execute_reply": "2023-10-23T20:37:11.264009Z"
    },
    "papermill": {
     "duration": 0.137175,
     "end_time": "2023-10-23T20:37:11.268956",
     "exception": false,
     "start_time": "2023-10-23T20:37:11.131781",
     "status": "completed"
    },
    "tags": []
   },
   "outputs": [],
   "source": [
    "df= customer.merge(sales, on= \"customer_id\", how= \"inner\")"
   ]
  },
  {
   "cell_type": "code",
   "execution_count": 7,
   "id": "ee587a3f",
   "metadata": {
    "execution": {
     "iopub.execute_input": "2023-10-23T20:37:11.291424Z",
     "iopub.status.busy": "2023-10-23T20:37:11.290350Z",
     "iopub.status.idle": "2023-10-23T20:37:11.375667Z",
     "shell.execute_reply": "2023-10-23T20:37:11.374359Z"
    },
    "papermill": {
     "duration": 0.099047,
     "end_time": "2023-10-23T20:37:11.378165",
     "exception": false,
     "start_time": "2023-10-23T20:37:11.279118",
     "status": "completed"
    },
    "tags": []
   },
   "outputs": [
    {
     "name": "stdout",
     "output_type": "stream",
     "text": [
      "<class 'pandas.core.frame.DataFrame'>\n",
      "RangeIndex: 99457 entries, 0 to 99456\n",
      "Data columns (total 10 columns):\n",
      " #   Column          Non-Null Count  Dtype  \n",
      "---  ------          --------------  -----  \n",
      " 0   customer_id     99457 non-null  object \n",
      " 1   gender          99457 non-null  object \n",
      " 2   age             99338 non-null  float64\n",
      " 3   payment_method  99457 non-null  object \n",
      " 4   invoice_no      99457 non-null  object \n",
      " 5   category        99457 non-null  object \n",
      " 6   quantity        99457 non-null  int64  \n",
      " 7   price           99457 non-null  float64\n",
      " 8   invoice_date    99457 non-null  object \n",
      " 9   shopping_mall   99457 non-null  object \n",
      "dtypes: float64(2), int64(1), object(7)\n",
      "memory usage: 7.6+ MB\n"
     ]
    }
   ],
   "source": [
    "df.info()"
   ]
  },
  {
   "cell_type": "code",
   "execution_count": 8,
   "id": "905e1830",
   "metadata": {
    "execution": {
     "iopub.execute_input": "2023-10-23T20:37:11.401134Z",
     "iopub.status.busy": "2023-10-23T20:37:11.399868Z",
     "iopub.status.idle": "2023-10-23T20:37:11.408963Z",
     "shell.execute_reply": "2023-10-23T20:37:11.407925Z"
    },
    "papermill": {
     "duration": 0.02291,
     "end_time": "2023-10-23T20:37:11.411379",
     "exception": false,
     "start_time": "2023-10-23T20:37:11.388469",
     "status": "completed"
    },
    "tags": []
   },
   "outputs": [
    {
     "data": {
      "text/plain": [
       "0.12"
      ]
     },
     "execution_count": 8,
     "metadata": {},
     "output_type": "execute_result"
    }
   ],
   "source": [
    "((df['age'].isnull().sum() / len(df['age'])) * 100).round(2)"
   ]
  },
  {
   "cell_type": "code",
   "execution_count": 9,
   "id": "a2663fa0",
   "metadata": {
    "execution": {
     "iopub.execute_input": "2023-10-23T20:37:11.433465Z",
     "iopub.status.busy": "2023-10-23T20:37:11.433049Z",
     "iopub.status.idle": "2023-10-23T20:37:11.528255Z",
     "shell.execute_reply": "2023-10-23T20:37:11.527122Z"
    },
    "papermill": {
     "duration": 0.109483,
     "end_time": "2023-10-23T20:37:11.531098",
     "exception": false,
     "start_time": "2023-10-23T20:37:11.421615",
     "status": "completed"
    },
    "tags": []
   },
   "outputs": [],
   "source": [
    "df.dropna(inplace = True)"
   ]
  },
  {
   "cell_type": "code",
   "execution_count": 10,
   "id": "2004e27e",
   "metadata": {
    "execution": {
     "iopub.execute_input": "2023-10-23T20:37:11.553713Z",
     "iopub.status.busy": "2023-10-23T20:37:11.553342Z",
     "iopub.status.idle": "2023-10-23T20:37:11.635625Z",
     "shell.execute_reply": "2023-10-23T20:37:11.634361Z"
    },
    "papermill": {
     "duration": 0.097709,
     "end_time": "2023-10-23T20:37:11.639147",
     "exception": false,
     "start_time": "2023-10-23T20:37:11.541438",
     "status": "completed"
    },
    "tags": []
   },
   "outputs": [
    {
     "data": {
      "text/plain": [
       "customer_id       0\n",
       "gender            0\n",
       "age               0\n",
       "payment_method    0\n",
       "invoice_no        0\n",
       "category          0\n",
       "quantity          0\n",
       "price             0\n",
       "invoice_date      0\n",
       "shopping_mall     0\n",
       "dtype: int64"
      ]
     },
     "execution_count": 10,
     "metadata": {},
     "output_type": "execute_result"
    }
   ],
   "source": [
    "df.isnull().sum()"
   ]
  },
  {
   "cell_type": "code",
   "execution_count": 11,
   "id": "c01c4365",
   "metadata": {
    "execution": {
     "iopub.execute_input": "2023-10-23T20:37:11.662840Z",
     "iopub.status.busy": "2023-10-23T20:37:11.662462Z",
     "iopub.status.idle": "2023-10-23T20:37:11.680467Z",
     "shell.execute_reply": "2023-10-23T20:37:11.679359Z"
    },
    "papermill": {
     "duration": 0.032733,
     "end_time": "2023-10-23T20:37:11.682817",
     "exception": false,
     "start_time": "2023-10-23T20:37:11.650084",
     "status": "completed"
    },
    "tags": []
   },
   "outputs": [
    {
     "data": {
      "text/html": [
       "<div>\n",
       "<style scoped>\n",
       "    .dataframe tbody tr th:only-of-type {\n",
       "        vertical-align: middle;\n",
       "    }\n",
       "\n",
       "    .dataframe tbody tr th {\n",
       "        vertical-align: top;\n",
       "    }\n",
       "\n",
       "    .dataframe thead th {\n",
       "        text-align: right;\n",
       "    }\n",
       "</style>\n",
       "<table border=\"1\" class=\"dataframe\">\n",
       "  <thead>\n",
       "    <tr style=\"text-align: right;\">\n",
       "      <th></th>\n",
       "      <th>customer_id</th>\n",
       "      <th>gender</th>\n",
       "      <th>age</th>\n",
       "      <th>payment_method</th>\n",
       "      <th>invoice_no</th>\n",
       "      <th>category</th>\n",
       "      <th>quantity</th>\n",
       "      <th>price</th>\n",
       "      <th>invoice_date</th>\n",
       "      <th>shopping_mall</th>\n",
       "    </tr>\n",
       "  </thead>\n",
       "  <tbody>\n",
       "    <tr>\n",
       "      <th>0</th>\n",
       "      <td>C241288</td>\n",
       "      <td>Female</td>\n",
       "      <td>28.0</td>\n",
       "      <td>Credit Card</td>\n",
       "      <td>I138884</td>\n",
       "      <td>Clothing</td>\n",
       "      <td>5</td>\n",
       "      <td>1500.40</td>\n",
       "      <td>05-08-2022</td>\n",
       "      <td>Kanyon</td>\n",
       "    </tr>\n",
       "    <tr>\n",
       "      <th>1</th>\n",
       "      <td>C111565</td>\n",
       "      <td>Male</td>\n",
       "      <td>21.0</td>\n",
       "      <td>Debit Card</td>\n",
       "      <td>I317333</td>\n",
       "      <td>Shoes</td>\n",
       "      <td>3</td>\n",
       "      <td>1800.51</td>\n",
       "      <td>12-12-2021</td>\n",
       "      <td>Forum Istanbul</td>\n",
       "    </tr>\n",
       "    <tr>\n",
       "      <th>2</th>\n",
       "      <td>C266599</td>\n",
       "      <td>Male</td>\n",
       "      <td>20.0</td>\n",
       "      <td>Cash</td>\n",
       "      <td>I127801</td>\n",
       "      <td>Clothing</td>\n",
       "      <td>1</td>\n",
       "      <td>300.08</td>\n",
       "      <td>09-11-2021</td>\n",
       "      <td>Metrocity</td>\n",
       "    </tr>\n",
       "    <tr>\n",
       "      <th>3</th>\n",
       "      <td>C988172</td>\n",
       "      <td>Female</td>\n",
       "      <td>66.0</td>\n",
       "      <td>Credit Card</td>\n",
       "      <td>I173702</td>\n",
       "      <td>Shoes</td>\n",
       "      <td>5</td>\n",
       "      <td>3000.85</td>\n",
       "      <td>16-05-2021</td>\n",
       "      <td>Metropol AVM</td>\n",
       "    </tr>\n",
       "    <tr>\n",
       "      <th>4</th>\n",
       "      <td>C189076</td>\n",
       "      <td>Female</td>\n",
       "      <td>53.0</td>\n",
       "      <td>Cash</td>\n",
       "      <td>I337046</td>\n",
       "      <td>Books</td>\n",
       "      <td>4</td>\n",
       "      <td>60.60</td>\n",
       "      <td>24-10-2021</td>\n",
       "      <td>Kanyon</td>\n",
       "    </tr>\n",
       "  </tbody>\n",
       "</table>\n",
       "</div>"
      ],
      "text/plain": [
       "  customer_id  gender   age payment_method invoice_no  category  quantity  \\\n",
       "0     C241288  Female  28.0    Credit Card    I138884  Clothing         5   \n",
       "1     C111565    Male  21.0     Debit Card    I317333     Shoes         3   \n",
       "2     C266599    Male  20.0           Cash    I127801  Clothing         1   \n",
       "3     C988172  Female  66.0    Credit Card    I173702     Shoes         5   \n",
       "4     C189076  Female  53.0           Cash    I337046     Books         4   \n",
       "\n",
       "     price invoice_date   shopping_mall  \n",
       "0  1500.40   05-08-2022          Kanyon  \n",
       "1  1800.51   12-12-2021  Forum Istanbul  \n",
       "2   300.08   09-11-2021       Metrocity  \n",
       "3  3000.85   16-05-2021    Metropol AVM  \n",
       "4    60.60   24-10-2021          Kanyon  "
      ]
     },
     "execution_count": 11,
     "metadata": {},
     "output_type": "execute_result"
    }
   ],
   "source": [
    "df.head()"
   ]
  },
  {
   "cell_type": "code",
   "execution_count": 12,
   "id": "249f397e",
   "metadata": {
    "execution": {
     "iopub.execute_input": "2023-10-23T20:37:11.706559Z",
     "iopub.status.busy": "2023-10-23T20:37:11.706116Z",
     "iopub.status.idle": "2023-10-23T20:37:11.714502Z",
     "shell.execute_reply": "2023-10-23T20:37:11.713375Z"
    },
    "papermill": {
     "duration": 0.023392,
     "end_time": "2023-10-23T20:37:11.716932",
     "exception": false,
     "start_time": "2023-10-23T20:37:11.693540",
     "status": "completed"
    },
    "tags": []
   },
   "outputs": [
    {
     "data": {
      "text/plain": [
       "customer_id        object\n",
       "gender             object\n",
       "age               float64\n",
       "payment_method     object\n",
       "invoice_no         object\n",
       "category           object\n",
       "quantity            int64\n",
       "price             float64\n",
       "invoice_date       object\n",
       "shopping_mall      object\n",
       "dtype: object"
      ]
     },
     "execution_count": 12,
     "metadata": {},
     "output_type": "execute_result"
    }
   ],
   "source": [
    "df.dtypes"
   ]
  },
  {
   "cell_type": "code",
   "execution_count": 13,
   "id": "52ea767b",
   "metadata": {
    "execution": {
     "iopub.execute_input": "2023-10-23T20:37:11.740527Z",
     "iopub.status.busy": "2023-10-23T20:37:11.740123Z",
     "iopub.status.idle": "2023-10-23T20:37:12.222423Z",
     "shell.execute_reply": "2023-10-23T20:37:12.221530Z"
    },
    "papermill": {
     "duration": 0.496764,
     "end_time": "2023-10-23T20:37:12.224718",
     "exception": false,
     "start_time": "2023-10-23T20:37:11.727954",
     "status": "completed"
    },
    "tags": []
   },
   "outputs": [],
   "source": [
    "df['invoice_date'] = pd.to_datetime(df['invoice_date'], dayfirst= True, utc= False)"
   ]
  },
  {
   "cell_type": "code",
   "execution_count": 14,
   "id": "9a83f90b",
   "metadata": {
    "execution": {
     "iopub.execute_input": "2023-10-23T20:37:12.248807Z",
     "iopub.status.busy": "2023-10-23T20:37:12.247911Z",
     "iopub.status.idle": "2023-10-23T20:37:12.256699Z",
     "shell.execute_reply": "2023-10-23T20:37:12.255739Z"
    },
    "papermill": {
     "duration": 0.023481,
     "end_time": "2023-10-23T20:37:12.259227",
     "exception": false,
     "start_time": "2023-10-23T20:37:12.235746",
     "status": "completed"
    },
    "tags": []
   },
   "outputs": [
    {
     "data": {
      "text/plain": [
       "0       2022-08-05\n",
       "1       2021-12-12\n",
       "2       2021-11-09\n",
       "3       2021-05-16\n",
       "4       2021-10-24\n",
       "           ...    \n",
       "99452   2022-09-21\n",
       "99453   2021-09-22\n",
       "99454   2021-03-28\n",
       "99455   2021-03-16\n",
       "99456   2022-10-15\n",
       "Name: invoice_date, Length: 99338, dtype: datetime64[ns]"
      ]
     },
     "execution_count": 14,
     "metadata": {},
     "output_type": "execute_result"
    }
   ],
   "source": [
    "df['invoice_date']"
   ]
  },
  {
   "cell_type": "code",
   "execution_count": 15,
   "id": "52387684",
   "metadata": {
    "execution": {
     "iopub.execute_input": "2023-10-23T20:37:12.282837Z",
     "iopub.status.busy": "2023-10-23T20:37:12.282482Z",
     "iopub.status.idle": "2023-10-23T20:37:12.297530Z",
     "shell.execute_reply": "2023-10-23T20:37:12.296433Z"
    },
    "papermill": {
     "duration": 0.029697,
     "end_time": "2023-10-23T20:37:12.299730",
     "exception": false,
     "start_time": "2023-10-23T20:37:12.270033",
     "status": "completed"
    },
    "tags": []
   },
   "outputs": [
    {
     "data": {
      "text/plain": [
       "array(['Female', 'Male'], dtype=object)"
      ]
     },
     "execution_count": 15,
     "metadata": {},
     "output_type": "execute_result"
    }
   ],
   "source": [
    "df[\"gender\"].unique()"
   ]
  },
  {
   "cell_type": "code",
   "execution_count": 16,
   "id": "55ea8394",
   "metadata": {
    "execution": {
     "iopub.execute_input": "2023-10-23T20:37:12.323371Z",
     "iopub.status.busy": "2023-10-23T20:37:12.322998Z",
     "iopub.status.idle": "2023-10-23T20:37:12.458937Z",
     "shell.execute_reply": "2023-10-23T20:37:12.458019Z"
    },
    "papermill": {
     "duration": 0.150693,
     "end_time": "2023-10-23T20:37:12.461300",
     "exception": false,
     "start_time": "2023-10-23T20:37:12.310607",
     "status": "completed"
    },
    "tags": []
   },
   "outputs": [
    {
     "data": {
      "text/plain": [
       "customer_id       99338\n",
       "gender                2\n",
       "payment_method        3\n",
       "invoice_no        99338\n",
       "category              8\n",
       "shopping_mall        10\n",
       "dtype: int64"
      ]
     },
     "execution_count": 16,
     "metadata": {},
     "output_type": "execute_result"
    }
   ],
   "source": [
    "df.select_dtypes(include= \"object\").nunique()"
   ]
  },
  {
   "cell_type": "code",
   "execution_count": 17,
   "id": "3710835a",
   "metadata": {
    "execution": {
     "iopub.execute_input": "2023-10-23T20:37:12.485619Z",
     "iopub.status.busy": "2023-10-23T20:37:12.485215Z",
     "iopub.status.idle": "2023-10-23T20:37:12.500603Z",
     "shell.execute_reply": "2023-10-23T20:37:12.499470Z"
    },
    "papermill": {
     "duration": 0.030181,
     "end_time": "2023-10-23T20:37:12.502800",
     "exception": false,
     "start_time": "2023-10-23T20:37:12.472619",
     "status": "completed"
    },
    "tags": []
   },
   "outputs": [
    {
     "data": {
      "text/plain": [
       "array(['Credit Card', 'Debit Card', 'Cash'], dtype=object)"
      ]
     },
     "execution_count": 17,
     "metadata": {},
     "output_type": "execute_result"
    }
   ],
   "source": [
    "df[\"payment_method\"].unique()"
   ]
  },
  {
   "cell_type": "code",
   "execution_count": 18,
   "id": "4312f311",
   "metadata": {
    "execution": {
     "iopub.execute_input": "2023-10-23T20:37:12.527126Z",
     "iopub.status.busy": "2023-10-23T20:37:12.526556Z",
     "iopub.status.idle": "2023-10-23T20:37:12.541969Z",
     "shell.execute_reply": "2023-10-23T20:37:12.540846Z"
    },
    "papermill": {
     "duration": 0.030564,
     "end_time": "2023-10-23T20:37:12.544485",
     "exception": false,
     "start_time": "2023-10-23T20:37:12.513921",
     "status": "completed"
    },
    "tags": []
   },
   "outputs": [
    {
     "data": {
      "text/plain": [
       "array(['Clothing', 'Shoes', 'Books', 'Cosmetics', 'Food & Beverage',\n",
       "       'Toys', 'Technology', 'Souvenir'], dtype=object)"
      ]
     },
     "execution_count": 18,
     "metadata": {},
     "output_type": "execute_result"
    }
   ],
   "source": [
    "df[\"category\"].unique()"
   ]
  },
  {
   "cell_type": "code",
   "execution_count": 19,
   "id": "90a6dbac",
   "metadata": {
    "execution": {
     "iopub.execute_input": "2023-10-23T20:37:12.569039Z",
     "iopub.status.busy": "2023-10-23T20:37:12.568675Z",
     "iopub.status.idle": "2023-10-23T20:37:12.585581Z",
     "shell.execute_reply": "2023-10-23T20:37:12.584460Z"
    },
    "papermill": {
     "duration": 0.031899,
     "end_time": "2023-10-23T20:37:12.587755",
     "exception": false,
     "start_time": "2023-10-23T20:37:12.555856",
     "status": "completed"
    },
    "tags": []
   },
   "outputs": [
    {
     "data": {
      "text/plain": [
       "array(['Kanyon', 'Forum Istanbul', 'Metrocity', 'Metropol AVM',\n",
       "       'Istinye Park', 'Mall of Istanbul', 'Emaar Square Mall',\n",
       "       'Cevahir AVM', 'Viaport Outlet', 'Zorlu Center'], dtype=object)"
      ]
     },
     "execution_count": 19,
     "metadata": {},
     "output_type": "execute_result"
    }
   ],
   "source": [
    "df[\"shopping_mall\"].unique()"
   ]
  },
  {
   "cell_type": "code",
   "execution_count": 20,
   "id": "9e0eaeac",
   "metadata": {
    "execution": {
     "iopub.execute_input": "2023-10-23T20:37:12.612765Z",
     "iopub.status.busy": "2023-10-23T20:37:12.612390Z",
     "iopub.status.idle": "2023-10-23T20:37:12.627308Z",
     "shell.execute_reply": "2023-10-23T20:37:12.626166Z"
    },
    "papermill": {
     "duration": 0.030171,
     "end_time": "2023-10-23T20:37:12.629690",
     "exception": false,
     "start_time": "2023-10-23T20:37:12.599519",
     "status": "completed"
    },
    "tags": []
   },
   "outputs": [
    {
     "data": {
      "text/plain": [
       "age              52\n",
       "quantity          5\n",
       "price            40\n",
       "invoice_date    797\n",
       "dtype: int64"
      ]
     },
     "execution_count": 20,
     "metadata": {},
     "output_type": "execute_result"
    }
   ],
   "source": [
    "df.select_dtypes(exclude=\"object\").nunique()"
   ]
  },
  {
   "cell_type": "code",
   "execution_count": 21,
   "id": "f0952f59",
   "metadata": {
    "execution": {
     "iopub.execute_input": "2023-10-23T20:37:12.655166Z",
     "iopub.status.busy": "2023-10-23T20:37:12.654797Z",
     "iopub.status.idle": "2023-10-23T20:37:12.663945Z",
     "shell.execute_reply": "2023-10-23T20:37:12.662889Z"
    },
    "papermill": {
     "duration": 0.024699,
     "end_time": "2023-10-23T20:37:12.666197",
     "exception": false,
     "start_time": "2023-10-23T20:37:12.641498",
     "status": "completed"
    },
    "tags": []
   },
   "outputs": [
    {
     "data": {
      "text/plain": [
       "array([28., 21., 20., 66., 53., 49., 32., 69., 60., 36., 29., 67., 25.,\n",
       "       24., 65., 42., 46., 23., 27., 52., 44., 51., 50., 68., 43., 59.,\n",
       "       54., 48., 40., 41., 19., 18., 22., 61., 45., 64., 33., 63., 34.,\n",
       "       47., 38., 57., 30., 26., 62., 39., 55., 56., 35., 31., 37., 58.])"
      ]
     },
     "execution_count": 21,
     "metadata": {},
     "output_type": "execute_result"
    }
   ],
   "source": [
    "df[\"age\"].unique()"
   ]
  },
  {
   "cell_type": "code",
   "execution_count": 22,
   "id": "e7600533",
   "metadata": {
    "execution": {
     "iopub.execute_input": "2023-10-23T20:37:12.692194Z",
     "iopub.status.busy": "2023-10-23T20:37:12.691114Z",
     "iopub.status.idle": "2023-10-23T20:37:12.708094Z",
     "shell.execute_reply": "2023-10-23T20:37:12.707006Z"
    },
    "papermill": {
     "duration": 0.032527,
     "end_time": "2023-10-23T20:37:12.710551",
     "exception": false,
     "start_time": "2023-10-23T20:37:12.678024",
     "status": "completed"
    },
    "tags": []
   },
   "outputs": [
    {
     "data": {
      "text/html": [
       "<div>\n",
       "<style scoped>\n",
       "    .dataframe tbody tr th:only-of-type {\n",
       "        vertical-align: middle;\n",
       "    }\n",
       "\n",
       "    .dataframe tbody tr th {\n",
       "        vertical-align: top;\n",
       "    }\n",
       "\n",
       "    .dataframe thead th {\n",
       "        text-align: right;\n",
       "    }\n",
       "</style>\n",
       "<table border=\"1\" class=\"dataframe\">\n",
       "  <thead>\n",
       "    <tr style=\"text-align: right;\">\n",
       "      <th></th>\n",
       "      <th>customer_id</th>\n",
       "      <th>gender</th>\n",
       "      <th>age</th>\n",
       "      <th>payment_method</th>\n",
       "      <th>invoice_no</th>\n",
       "      <th>category</th>\n",
       "      <th>quantity</th>\n",
       "      <th>price</th>\n",
       "      <th>invoice_date</th>\n",
       "      <th>shopping_mall</th>\n",
       "    </tr>\n",
       "  </thead>\n",
       "  <tbody>\n",
       "    <tr>\n",
       "      <th>0</th>\n",
       "      <td>C241288</td>\n",
       "      <td>Female</td>\n",
       "      <td>28.0</td>\n",
       "      <td>Credit Card</td>\n",
       "      <td>I138884</td>\n",
       "      <td>Clothing</td>\n",
       "      <td>5</td>\n",
       "      <td>1500.40</td>\n",
       "      <td>2022-08-05</td>\n",
       "      <td>Kanyon</td>\n",
       "    </tr>\n",
       "    <tr>\n",
       "      <th>1</th>\n",
       "      <td>C111565</td>\n",
       "      <td>Male</td>\n",
       "      <td>21.0</td>\n",
       "      <td>Debit Card</td>\n",
       "      <td>I317333</td>\n",
       "      <td>Shoes</td>\n",
       "      <td>3</td>\n",
       "      <td>1800.51</td>\n",
       "      <td>2021-12-12</td>\n",
       "      <td>Forum Istanbul</td>\n",
       "    </tr>\n",
       "    <tr>\n",
       "      <th>2</th>\n",
       "      <td>C266599</td>\n",
       "      <td>Male</td>\n",
       "      <td>20.0</td>\n",
       "      <td>Cash</td>\n",
       "      <td>I127801</td>\n",
       "      <td>Clothing</td>\n",
       "      <td>1</td>\n",
       "      <td>300.08</td>\n",
       "      <td>2021-11-09</td>\n",
       "      <td>Metrocity</td>\n",
       "    </tr>\n",
       "    <tr>\n",
       "      <th>3</th>\n",
       "      <td>C988172</td>\n",
       "      <td>Female</td>\n",
       "      <td>66.0</td>\n",
       "      <td>Credit Card</td>\n",
       "      <td>I173702</td>\n",
       "      <td>Shoes</td>\n",
       "      <td>5</td>\n",
       "      <td>3000.85</td>\n",
       "      <td>2021-05-16</td>\n",
       "      <td>Metropol AVM</td>\n",
       "    </tr>\n",
       "    <tr>\n",
       "      <th>4</th>\n",
       "      <td>C189076</td>\n",
       "      <td>Female</td>\n",
       "      <td>53.0</td>\n",
       "      <td>Cash</td>\n",
       "      <td>I337046</td>\n",
       "      <td>Books</td>\n",
       "      <td>4</td>\n",
       "      <td>60.60</td>\n",
       "      <td>2021-10-24</td>\n",
       "      <td>Kanyon</td>\n",
       "    </tr>\n",
       "  </tbody>\n",
       "</table>\n",
       "</div>"
      ],
      "text/plain": [
       "  customer_id  gender   age payment_method invoice_no  category  quantity  \\\n",
       "0     C241288  Female  28.0    Credit Card    I138884  Clothing         5   \n",
       "1     C111565    Male  21.0     Debit Card    I317333     Shoes         3   \n",
       "2     C266599    Male  20.0           Cash    I127801  Clothing         1   \n",
       "3     C988172  Female  66.0    Credit Card    I173702     Shoes         5   \n",
       "4     C189076  Female  53.0           Cash    I337046     Books         4   \n",
       "\n",
       "     price invoice_date   shopping_mall  \n",
       "0  1500.40   2022-08-05          Kanyon  \n",
       "1  1800.51   2021-12-12  Forum Istanbul  \n",
       "2   300.08   2021-11-09       Metrocity  \n",
       "3  3000.85   2021-05-16    Metropol AVM  \n",
       "4    60.60   2021-10-24          Kanyon  "
      ]
     },
     "execution_count": 22,
     "metadata": {},
     "output_type": "execute_result"
    }
   ],
   "source": [
    "df.head()"
   ]
  },
  {
   "cell_type": "code",
   "execution_count": 23,
   "id": "e00b5340",
   "metadata": {
    "execution": {
     "iopub.execute_input": "2023-10-23T20:37:12.736861Z",
     "iopub.status.busy": "2023-10-23T20:37:12.736424Z",
     "iopub.status.idle": "2023-10-23T20:37:12.744447Z",
     "shell.execute_reply": "2023-10-23T20:37:12.743327Z"
    },
    "papermill": {
     "duration": 0.023663,
     "end_time": "2023-10-23T20:37:12.746572",
     "exception": false,
     "start_time": "2023-10-23T20:37:12.722909",
     "status": "completed"
    },
    "tags": []
   },
   "outputs": [],
   "source": [
    "conc = df.select_dtypes(exclude= \"object\")"
   ]
  },
  {
   "cell_type": "code",
   "execution_count": 24,
   "id": "5b292c7a",
   "metadata": {
    "execution": {
     "iopub.execute_input": "2023-10-23T20:37:12.773629Z",
     "iopub.status.busy": "2023-10-23T20:37:12.773185Z",
     "iopub.status.idle": "2023-10-23T20:37:13.196103Z",
     "shell.execute_reply": "2023-10-23T20:37:13.194975Z"
    },
    "papermill": {
     "duration": 0.439951,
     "end_time": "2023-10-23T20:37:13.198679",
     "exception": false,
     "start_time": "2023-10-23T20:37:12.758728",
     "status": "completed"
    },
    "tags": []
   },
   "outputs": [
    {
     "data": {
      "text/plain": [
       "<Axes: >"
      ]
     },
     "execution_count": 24,
     "metadata": {},
     "output_type": "execute_result"
    },
    {
     "data": {
      "image/png": "[encoded data removed]",
      "text/plain": [
       "<Figure size 1000x300 with 2 Axes>"
      ]
     },
     "metadata": {},
     "output_type": "display_data"
    }
   ],
   "source": [
    "plt.figure(figsize= (10, 3))\n",
    "sns.heatmap(data= conc.corr(numeric_only= True),vmax= 1 , vmin= -1 , annot= True, cmap= 'Blues')\n"
   ]
  },
  {
   "cell_type": "code",
   "execution_count": 25,
   "id": "13bed87c",
   "metadata": {
    "execution": {
     "iopub.execute_input": "2023-10-23T20:37:13.226478Z",
     "iopub.status.busy": "2023-10-23T20:37:13.226071Z",
     "iopub.status.idle": "2023-10-23T20:37:13.232537Z",
     "shell.execute_reply": "2023-10-23T20:37:13.231611Z"
    },
    "papermill": {
     "duration": 0.023151,
     "end_time": "2023-10-23T20:37:13.234697",
     "exception": false,
     "start_time": "2023-10-23T20:37:13.211546",
     "status": "completed"
    },
    "tags": []
   },
   "outputs": [],
   "source": [
    "df['profit'] = df['price'] * df['quantity']"
   ]
  },
  {
   "cell_type": "code",
   "execution_count": 26,
   "id": "1ce7b0db",
   "metadata": {
    "execution": {
     "iopub.execute_input": "2023-10-23T20:37:13.261954Z",
     "iopub.status.busy": "2023-10-23T20:37:13.261562Z",
     "iopub.status.idle": "2023-10-23T20:37:13.273305Z",
     "shell.execute_reply": "2023-10-23T20:37:13.272320Z"
    },
    "papermill": {
     "duration": 0.028359,
     "end_time": "2023-10-23T20:37:13.275813",
     "exception": false,
     "start_time": "2023-10-23T20:37:13.247454",
     "status": "completed"
    },
    "tags": []
   },
   "outputs": [],
   "source": [
    "conc = df.select_dtypes(exclude= \"object\")"
   ]
  },
  {
   "cell_type": "code",
   "execution_count": 27,
   "id": "be80a7be",
   "metadata": {
    "execution": {
     "iopub.execute_input": "2023-10-23T20:37:13.304097Z",
     "iopub.status.busy": "2023-10-23T20:37:13.303678Z",
     "iopub.status.idle": "2023-10-23T20:37:13.747843Z",
     "shell.execute_reply": "2023-10-23T20:37:13.746727Z"
    },
    "papermill": {
     "duration": 0.461618,
     "end_time": "2023-10-23T20:37:13.750285",
     "exception": false,
     "start_time": "2023-10-23T20:37:13.288667",
     "status": "completed"
    },
    "tags": []
   },
   "outputs": [
    {
     "data": {
      "text/plain": [
       "<Axes: >"
      ]
     },
     "execution_count": 27,
     "metadata": {},
     "output_type": "execute_result"
    },
    {
     "data": {
      "image/png": "[encoded data removed]",
      "text/plain": [
       "<Figure size 1000x300 with 2 Axes>"
      ]
     },
     "metadata": {},
     "output_type": "display_data"
    }
   ],
   "source": [
    "plt.figure(figsize= (10, 3))\n",
    "sns.heatmap(data= conc.corr(numeric_only= True),vmax= 1 , vmin= -1 , annot= True, cmap= 'Blues')\n"
   ]
  }
 ],
 "metadata": {
  "kernelspec": {
   "display_name": "Python 3",
   "language": "python",
   "name": "python3"
  },
  "language_info": {
   "codemirror_mode": {
    "name": "ipython",
    "version": 3
   },
   "file_extension": ".py",
   "mimetype": "text/x-python",
   "name": "python",
   "nbconvert_exporter": "python",
   "pygments_lexer": "ipython3",
   "version": "3.10.12"
  },
  "papermill": {
   "default_parameters": {},
   "duration": 9.571854,
   "end_time": "2023-10-23T20:37:14.386068",
   "environment_variables": {},
   "exception": null,
   "input_path": "__notebook__.ipynb",
   "output_path": "__notebook__.ipynb",
   "parameters": {},
   "start_time": "2023-10-23T20:37:04.814214",
   "version": "2.4.0"
  }
 },
 "nbformat": 4,
 "nbformat_minor": 5
}
